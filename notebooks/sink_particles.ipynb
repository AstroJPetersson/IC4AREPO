{
 "cells": [
  {
   "cell_type": "markdown",
   "id": "6d68d11e",
   "metadata": {},
   "source": [
    "# Read & Write Sink Particle Snapshots"
   ]
  },
  {
   "cell_type": "code",
   "execution_count": 7,
   "id": "941e3e50",
   "metadata": {},
   "outputs": [],
   "source": [
    "import numpy as np\n",
    "import matplotlib.pyplot as plt\n",
    "import h5py\n",
    "import os\n",
    "import pycstruct"
   ]
  },
  {
   "cell_type": "code",
   "execution_count": 8,
   "id": "f7110252",
   "metadata": {},
   "outputs": [],
   "source": [
    "def read_dump_file(file, bh=False):\n",
    "    f = open(file, 'rb')\n",
    "    \n",
    "    Time = np.fromfile(f, np.float64, 1)\n",
    "    NSinksAllTasks = np.fromfile(f, np.uint32, 1)\n",
    "    \n",
    "    struct = pycstruct.StructDef(alignment = 8)\n",
    "    struct.add('float64', 'Pos', shape=3)\n",
    "    struct.add('float64', 'Vel', shape=3)\n",
    "    struct.add('float64', 'Accel', shape=3)\n",
    "    struct.add('float64', 'Mass')\n",
    "    struct.add('float64', 'FormationMass')\n",
    "    struct.add('float64', 'FormationTime')\n",
    "    struct.add('uint64', 'ID')\n",
    "    struct.add('uint32', 'HomeTask')\n",
    "    struct.add('uint32', 'Index')\n",
    "    struct.add('uint32', 'FormationOrder')\n",
    "    if bh == True:\n",
    "        struct.add('uint32', 'BlackHole')\n",
    "        struct.add('float64', 'BlackHoleAccretionRadius')\n",
    "        struct.add('float64', 'BlackHoleMass')\n",
    "        struct.add('float64', 'BlackHoleDiskGasMass')\n",
    "        struct.add('float64', 'BlackHoleSinkAccretionRate')\n",
    "        struct.add('float64', 'BlackHoleAccCellsTotalMass')\n",
    "    \n",
    "    inbytes = f.read()\n",
    "    data = struct.deserialize(inbytes)\n",
    "    \n",
    "    f.close()\n",
    "    \n",
    "    return Time, NSinksAllTasks, data\n",
    "\n",
    "def write_dump_file(filename, bh=False):\n",
    "    struct = pycstruct.StructDef(alignment=8)\n",
    "    struct.add('float64', 'Pos', shape=3)\n",
    "    struct.add('float64', 'Vel', shape=3)\n",
    "    struct.add('float64', 'Accel', shape=3)\n",
    "    struct.add('float64', 'Mass')\n",
    "    struct.add('float64', 'FormationMass')\n",
    "    struct.add('float64', 'FormationTime')\n",
    "    struct.add('uint64', 'ID')\n",
    "    struct.add('uint32', 'HomeTask')\n",
    "    struct.add('uint32', 'Index')\n",
    "    struct.add('uint32', 'FormationOrder')\n",
    "    if bh == True:\n",
    "        struct.add('uint32', 'BlackHole')\n",
    "        struct.add('float64', 'BlackHoleAccretionRadius')\n",
    "        struct.add('float64', 'BlackHoleMass')\n",
    "        struct.add('float64', 'BlackHoleDiskGasMass')\n",
    "        struct.add('float64', 'BlackHoleSinkAccretionRate')\n",
    "        struct.add('float64', 'BlackHoleAccCellsTotalMass')\n",
    "\n",
    "    data = {}\n",
    "    data['Pos']            = [20, 20, 20]\n",
    "    data['Vel']            = [0, 0, 0]\n",
    "    data['Accel']          = [0, 0, 0]\n",
    "    data['Mass']           = 1e7\n",
    "    data['FormationMass']  = 1e7\n",
    "    data['FormationTime']  = 0\n",
    "    data['ID']             = 110001\n",
    "    data['HomeTask']       = 0\n",
    "    data['Index']          = 0\n",
    "    data['FormationOrder'] = 0\n",
    "    if bh == True:\n",
    "        data['BlackHole']                  = 1\n",
    "        data['BlackHoleAccretionRadius']   = 1.0\n",
    "        data['BlackHoleMass']              = 1e7\n",
    "        data['BlackHoleDiskGasMass']       = 0\n",
    "        data['BlackHoleSinkAccretionRate'] = 0\n",
    "        data['BlackHoleAccCellsTotalMass'] = 0\n",
    "    buffer = struct.serialize(data)\n",
    "    \n",
    "    f = open(filename, 'wb')\n",
    "    np.array([0], dtype=np.double).tofile(f)\n",
    "    np.array([1], dtype=np.intc).tofile(f)\n",
    "    f.write(buffer)\n",
    "    f.close()\n",
    "    \n",
    "    return 1\n",
    "\n",
    "def read_hdf5_file(file):\n",
    "    h = h5py.File(file, 'r')\n",
    "    \n",
    "    print('HDF5-file keys:')\n",
    "    for i in h.keys():\n",
    "        print(i)\n",
    "    \n",
    "    print('\\nHeader:')\n",
    "    for i in h['Header'].attrs:\n",
    "        print(i, h['Header'].attrs[i])\n",
    "    \n",
    "    print('\\nPartType5 keys:')\n",
    "    for i in h['PartType5'].keys():\n",
    "        print(i, h['PartType5'][i][:])\n",
    "    \n",
    "    return 1"
   ]
  },
  {
   "cell_type": "markdown",
   "id": "3b207f06",
   "metadata": {},
   "source": [
    "## Read Snapshot:"
   ]
  },
  {
   "cell_type": "code",
   "execution_count": 11,
   "id": "877c3b1a",
   "metadata": {},
   "outputs": [],
   "source": [
    "dump = '/hpcstorage/jpeterss/spherecollapse/fiducial/OUTPUT/sink_snap_001'\n",
    "hdf5 = '/hpcstorage/jpeterss/spherecollapse/fiducial/OUTPUT/snap_001.hdf5'\n"
   ]
  },
  {
   "cell_type": "code",
   "execution_count": 12,
   "id": "fb6e6a4d",
   "metadata": {},
   "outputs": [
    {
     "data": {
      "text/plain": [
       "(array([1.20214844]),\n",
       " array([1], dtype=uint32),\n",
       " {'Pos': [21.121470419115532, 4.960931277234721, 15.300402521488106],\n",
       "  'Vel': [0.00044362805842551584,\n",
       "   -4.799308752068949e-05,\n",
       "   -0.001152399840066255],\n",
       "  'Accel': [0.12145278488061406, 0.006235908266947927, 0.003135396903074486],\n",
       "  'Mass': 100870.38460174497,\n",
       "  'FormationMass': 100000.0,\n",
       "  'FormationTime': 0.0,\n",
       "  'ID': 110001,\n",
       "  'HomeTask': 18,\n",
       "  'Index': 1866,\n",
       "  'FormationOrder': 0})"
      ]
     },
     "execution_count": 12,
     "metadata": {},
     "output_type": "execute_result"
    }
   ],
   "source": [
    "read_dump_file(dump, bh=False)"
   ]
  },
  {
   "cell_type": "code",
   "execution_count": 14,
   "id": "f081bd74",
   "metadata": {},
   "outputs": [
    {
     "name": "stdout",
     "output_type": "stream",
     "text": [
      "HDF5-file keys:\n",
      "Config\n",
      "Header\n",
      "Parameters\n",
      "PartType0\n",
      "PartType5\n",
      "\n",
      "Header:\n",
      "BoxSize 40.0\n",
      "Composition_vector_length 0\n",
      "Flag_Cooling 0\n",
      "Flag_DoublePrecision 1\n",
      "Flag_Feedback 0\n",
      "Flag_Metals 0\n",
      "Flag_Sfr 0\n",
      "Flag_StellarAge 0\n",
      "Git_commit b'd3f7a2da9dad4cca1339f6233f43885006a726e4'\n",
      "Git_date b'Thu Dec 8 09:48:17 2022 +0100'\n",
      "HubbleParam 1.0\n",
      "MassTable [0. 0. 0. 0. 0. 0.]\n",
      "NumFilesPerSnapshot 1\n",
      "NumPart_ThisFile [56446     0     0     0     0     1]\n",
      "NumPart_Total [56446     0     0     0     0     1]\n",
      "NumPart_Total_HighWord [0 0 0 0 0 0]\n",
      "Omega0 0.0\n",
      "OmegaBaryon 0.0\n",
      "OmegaLambda 0.0\n",
      "Redshift 0.0\n",
      "Time 1.2021484375\n",
      "UnitLength_in_cm 3.08567758e+18\n",
      "UnitMass_in_g 1.9891e+33\n",
      "UnitVelocity_in_cm_per_s 100000.0\n",
      "\n",
      "PartType5 keys:\n",
      "Coordinates [[19.99993215 20.00002295 19.99996404]]\n",
      "Masses [100870.38460174]\n",
      "ParticleIDs [110001]\n",
      "Velocities [[ 0.0006093  -0.00014908 -0.00126227]]\n"
     ]
    },
    {
     "data": {
      "text/plain": [
       "0"
      ]
     },
     "execution_count": 14,
     "metadata": {},
     "output_type": "execute_result"
    }
   ],
   "source": [
    "read_hdf5_file(hdf5)"
   ]
  },
  {
   "cell_type": "markdown",
   "id": "89aa7ade",
   "metadata": {},
   "source": [
    "## Write Snapshot:"
   ]
  },
  {
   "cell_type": "code",
   "execution_count": 9,
   "id": "1fe2c8ef",
   "metadata": {},
   "outputs": [
    {
     "data": {
      "text/plain": [
       "(array([0.]),\n",
       " array([1], dtype=uint32),\n",
       " {'Pos': [20.0, 20.0, 20.0],\n",
       "  'Vel': [0.0, 0.0, 0.0],\n",
       "  'Accel': [0.0, 0.0, 0.0],\n",
       "  'Mass': 10000000.0,\n",
       "  'FormationMass': 10000000.0,\n",
       "  'FormationTime': 0.0,\n",
       "  'ID': 110001,\n",
       "  'HomeTask': 0,\n",
       "  'Index': 0,\n",
       "  'FormationOrder': 0,\n",
       "  'BlackHole': 1,\n",
       "  'BlackHoleAccretionRadius': 1.0,\n",
       "  'BlackHoleMass': 10000000.0,\n",
       "  'BlackHoleDiskGasMass': 0.0,\n",
       "  'BlackHoleSinkAccretionRate': 0.0,\n",
       "  'BlackHoleAccCellsTotalMass': 0.0})"
      ]
     },
     "execution_count": 9,
     "metadata": {},
     "output_type": "execute_result"
    }
   ],
   "source": [
    "write_dump_file('sink_snap_000', bh=True)\n",
    "read_dump_file('sink_snap_000', bh=True)"
   ]
  },
  {
   "cell_type": "code",
   "execution_count": null,
   "id": "dcb6798f",
   "metadata": {},
   "outputs": [],
   "source": []
  },
  {
   "cell_type": "code",
   "execution_count": null,
   "id": "b74f6eaa",
   "metadata": {},
   "outputs": [],
   "source": []
  }
 ],
 "metadata": {
  "kernelspec": {
   "display_name": "Python 3 (ipykernel)",
   "language": "python",
   "name": "python3"
  },
  "language_info": {
   "codemirror_mode": {
    "name": "ipython",
    "version": 3
   },
   "file_extension": ".py",
   "mimetype": "text/x-python",
   "name": "python",
   "nbconvert_exporter": "python",
   "pygments_lexer": "ipython3",
   "version": "3.9.12"
  }
 },
 "nbformat": 4,
 "nbformat_minor": 5
}
