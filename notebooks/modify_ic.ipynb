{
 "cells": [
  {
   "cell_type": "markdown",
   "id": "3bb22ca8",
   "metadata": {},
   "source": [
    "# Modify IC"
   ]
  },
  {
   "cell_type": "code",
   "execution_count": 1,
   "id": "c28fa911",
   "metadata": {},
   "outputs": [],
   "source": [
    "import numpy as np\n",
    "import h5py"
   ]
  },
  {
   "cell_type": "code",
   "execution_count": 2,
   "id": "39057894",
   "metadata": {},
   "outputs": [],
   "source": [
    "file = '/hpcstorage/jpeterss/spherecollapse/black_hole/OUTPUT/snap_000.hdf5'"
   ]
  },
  {
   "cell_type": "code",
   "execution_count": 3,
   "id": "3132347d",
   "metadata": {},
   "outputs": [],
   "source": [
    "with h5py.File(file, 'r+') as f:\n",
    "    f['Header'].attrs['Time'] = 0"
   ]
  },
  {
   "cell_type": "code",
   "execution_count": 4,
   "id": "e754811e",
   "metadata": {},
   "outputs": [
    {
     "name": "stdout",
     "output_type": "stream",
     "text": [
      "HDF5-file keys:\n",
      "Config\n",
      "Header\n",
      "Parameters\n",
      "PartType0\n",
      "PartType5\n",
      "\n",
      "Header:\n",
      "BoxSize 40.0\n",
      "Composition_vector_length 0\n",
      "Flag_Cooling 0\n",
      "Flag_DoublePrecision 1\n",
      "Flag_Feedback 0\n",
      "Flag_Metals 0\n",
      "Flag_Sfr 0\n",
      "Flag_StellarAge 0\n",
      "Git_commit b'd3f7a2da9dad4cca1339f6233f43885006a726e4'\n",
      "Git_date b'Thu Dec 8 09:48:17 2022 +0100'\n",
      "HubbleParam 1.0\n",
      "MassTable [0. 0. 0. 0. 0. 0.]\n",
      "NumFilesPerSnapshot 1\n",
      "NumPart_ThisFile [92057     0     0     0     0     1]\n",
      "NumPart_Total [92057     0     0     0     0     1]\n",
      "NumPart_Total_HighWord [0 0 0 0 0 0]\n",
      "Omega0 0.0\n",
      "OmegaBaryon 0.0\n",
      "OmegaLambda 0.0\n",
      "Redshift 0.0\n",
      "Time 0\n",
      "UnitLength_in_cm 3.08567758e+18\n",
      "UnitMass_in_g 1.9891e+33\n",
      "UnitVelocity_in_cm_per_s 100000.0\n",
      "\n",
      "PartType5 keys:\n",
      "Coordinates [[20. 20. 20.]]\n",
      "Masses [10000000.]\n",
      "ParticleIDs [110001]\n",
      "Velocities [[0. 0. 0.]]\n"
     ]
    }
   ],
   "source": [
    "def read_hdf5_file(file):\n",
    "    h = h5py.File(file, 'r')\n",
    "    \n",
    "    print('HDF5-file keys:')\n",
    "    for i in h.keys():\n",
    "        print(i)\n",
    "    \n",
    "    print('\\nHeader:')\n",
    "    for i in h['Header'].attrs:\n",
    "        print(i, h['Header'].attrs[i])\n",
    "    \n",
    "    print('\\nPartType5 keys:')\n",
    "    for i in h['PartType5'].keys():\n",
    "        print(i, h['PartType5'][i][:])\n",
    "    \n",
    "    return None\n",
    "\n",
    "read_hdf5_file(file)"
   ]
  },
  {
   "cell_type": "code",
   "execution_count": null,
   "id": "87d54c07",
   "metadata": {},
   "outputs": [],
   "source": []
  }
 ],
 "metadata": {
  "kernelspec": {
   "display_name": "Python 3 (ipykernel)",
   "language": "python",
   "name": "python3"
  },
  "language_info": {
   "codemirror_mode": {
    "name": "ipython",
    "version": 3
   },
   "file_extension": ".py",
   "mimetype": "text/x-python",
   "name": "python",
   "nbconvert_exporter": "python",
   "pygments_lexer": "ipython3",
   "version": "3.9.12"
  }
 },
 "nbformat": 4,
 "nbformat_minor": 5
}
